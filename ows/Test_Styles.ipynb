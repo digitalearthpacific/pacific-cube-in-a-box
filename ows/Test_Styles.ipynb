{
 "cells": [
  {
   "cell_type": "code",
   "execution_count": null,
   "metadata": {},
   "outputs": [],
   "source": [
    "from datacube_ows.styles.api import plot_image_with_style_cfg\n",
    "\n",
    "from pystac.client import Client\n",
    "from odc.stac import load"
   ]
  },
  {
   "cell_type": "code",
   "execution_count": null,
   "metadata": {},
   "outputs": [],
   "source": [
    "from ows_config.mangroves.ows_mangroves_cfg import style_canopy"
   ]
  },
  {
   "cell_type": "code",
   "execution_count": null,
   "metadata": {},
   "outputs": [],
   "source": [
    "catalog = \"https://stac.staging.digitalearthpacific.io\"\n",
    "collection = \"dep_s2_mangroves\"\n",
    "\n",
    "client = Client.open(catalog)\n",
    "\n",
    "# bbox = [-178.4803748131407, -18.56384238396279, -178.4539389610779, -18.53743868386896]\n",
    "\n",
    "lon = [177.23472, 177.28915]\n",
    "lat = [-17.95643, -17.93334]\n",
    "\n",
    "# western fiji bbox\n",
    "bbox = [lon[0], lat[0], lon[1], lat[1]]\n",
    "\n",
    "items = client.search(collections=[collection], bbox=bbox).item_collection()\n",
    "\n",
    "print(f\"Found {len(items)} items\")"
   ]
  },
  {
   "cell_type": "code",
   "execution_count": null,
   "metadata": {},
   "outputs": [],
   "source": [
    "from odc.stac import configure_s3_access\n",
    " \n",
    "configure_s3_access(aws_unsigned=True)\n",
    " \n",
    "    \n",
    "data = load(items, bbox=bbox, groupby=\"solar_day\").compute()\n",
    "data"
   ]
  },
  {
   "cell_type": "code",
   "execution_count": null,
   "metadata": {},
   "outputs": [],
   "source": [
    "plot_image_with_style_cfg(style_canopy, data)"
   ]
  },
  {
   "cell_type": "code",
   "execution_count": null,
   "metadata": {},
   "outputs": [],
   "source": [
    "from datacube_ows.styles.api import generate_ows_legend_style_cfg\n",
    "\n",
    "style_canopy = {\n",
    "    \"name\": \"style_canopy\",\n",
    "    \"title\": \"Mangrove Canopy Cover\",\n",
    "    \"abstract\": \"Mangrove Canopy Cover\",\n",
    "    \"needed_bands\": [\"mangroves\"],\n",
    "    \"index_function\": {\n",
    "        \"function\": \"datacube_ows.band_utils.single_band\",\n",
    "        \"mapped_bands\": True,\n",
    "        \"kwargs\": {\n",
    "            \"band\": \"mangroves\",\n",
    "        },\n",
    "    },\n",
    "    \"value_map\": {\n",
    "        \"mangroves\": [\n",
    "            {\n",
    "                \"title\": \"No Mangrove Canopy\",\n",
    "                \"abstract\": \"\",\n",
    "                \"values\": [0],\n",
    "                \"alpha\": 1.0,\n",
    "                \"color\": \"#BDBDBD\",\n",
    "            },\n",
    "            {\n",
    "                \"title\": \"Sparse Mangrove Canopy\",\n",
    "                \"abstract\": \"\",\n",
    "                \"values\": [1],\n",
    "                \"color\": \"#5ECC00\",\n",
    "            },\n",
    "            {\n",
    "                \"title\": \"Dense Mangrove Canopy\",\n",
    "                \"abstract\": \"\",\n",
    "                \"values\": [2],\n",
    "                \"color\": \"#3B7F00\",\n",
    "            }\n",
    "        ]\n",
    "    },\n",
    "    \"legend\": {\"width\": 2.5, \"height\": 1.0},\n",
    "}\n",
    "\n",
    "\n",
    "# Note this command will also display the legend in a JupyterHub/notebook-type environment)\n",
    "generate_ows_legend_style_cfg(style_canopy)\n"
   ]
  }
 ],
 "metadata": {
  "kernelspec": {
   "display_name": "blah",
   "language": "python",
   "name": "python3"
  },
  "language_info": {
   "codemirror_mode": {
    "name": "ipython",
    "version": 3
   },
   "file_extension": ".py",
   "mimetype": "text/x-python",
   "name": "python",
   "nbconvert_exporter": "python",
   "pygments_lexer": "ipython3",
   "version": "3.11.9"
  }
 },
 "nbformat": 4,
 "nbformat_minor": 2
}
