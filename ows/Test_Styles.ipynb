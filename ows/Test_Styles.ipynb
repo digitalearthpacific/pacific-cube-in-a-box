{
 "cells": [
  {
   "cell_type": "code",
   "execution_count": null,
   "metadata": {},
   "outputs": [],
   "source": [
    "from datacube_ows.styles.api import plot_image_with_style_cfg\n",
    "\n",
    "from pystac.client import Client\n",
    "from odc.stac import load\n",
    "\n",
    "from odc.geo.geom import BoundingBox"
   ]
  },
  {
   "cell_type": "code",
   "execution_count": null,
   "metadata": {},
   "outputs": [],
   "source": [
    "# Reload functions\n",
    "%reload_ext autoreload\n",
    "%autoreload 2"
   ]
  },
  {
   "cell_type": "code",
   "execution_count": null,
   "metadata": {},
   "outputs": [],
   "source": [
    "from ows.ows_config.land_cover.seagrass import classification, probability, seagrass_60, seagrass"
   ]
  },
  {
   "cell_type": "code",
   "execution_count": null,
   "metadata": {},
   "outputs": [],
   "source": [
    "catalog = \"https://stac.staging.digitalearthpacific.io\"\n",
    "collection = \"dep_s2_seagrass\"\n",
    "\n",
    "client = Client.open(catalog)\n",
    "\n",
    "lon = [177.23472, 177.28915]\n",
    "lat = [-17.95643, -17.93334]\n",
    "\n",
    "# western fiji bbox\n",
    "bbox = BoundingBox(lon[0], lat[0], lon[1], lat[1])\n",
    "\n",
    "items = client.search(collections=[collection], intersects=bbox.polygon).item_collection()\n",
    "\n",
    "print(f\"Found {len(items)} items\")"
   ]
  },
  {
   "cell_type": "code",
   "execution_count": null,
   "metadata": {},
   "outputs": [],
   "source": [
    "from odc.stac import configure_s3_access\n",
    " \n",
    "configure_s3_access(aws_unsigned=True)\n",
    "    \n",
    "data = load(items, bbox=bbox, groupby=\"solar_day\").compute()\n",
    "data"
   ]
  },
  {
   "cell_type": "code",
   "execution_count": null,
   "metadata": {},
   "outputs": [],
   "source": [
    "plot_image_with_style_cfg(classification, data)"
   ]
  },
  {
   "cell_type": "code",
   "execution_count": null,
   "metadata": {},
   "outputs": [],
   "source": [
    "classification"
   ]
  },
  {
   "cell_type": "code",
   "execution_count": null,
   "metadata": {},
   "outputs": [],
   "source": [
    "from datacube_ows.styles.api import generate_ows_legend_style_cfg\n",
    "\n",
    "style_mangroves = {\n",
    "    \"name\": \"style_mangroves\",\n",
    "    \"title\": \"Mangrove Cover\",\n",
    "    \"abstract\": \"Mangrove Cover\",\n",
    "    \"needed_bands\": [\"mangroves\"],\n",
    "    \"index_function\": {\n",
    "        \"function\": \"datacube_ows.band_utils.single_band\",\n",
    "        \"mapped_bands\": True,\n",
    "        \"kwargs\": {\n",
    "            \"band\": \"mangroves\",\n",
    "        },\n",
    "    },\n",
    "    \"value_map\": {\n",
    "        \"mangroves\": [\n",
    "            {\n",
    "                \"title\": \"No Mangroves\",\n",
    "                \"abstract\": \"\",\n",
    "                \"values\": [0],\n",
    "                \"alpha\": 1.0,\n",
    "                \"color\": \"#BDBDBD\",\n",
    "            },\n",
    "            {\n",
    "                \"title\": \"Open Mangroves\",\n",
    "                \"abstract\": \"\",\n",
    "                \"values\": [1],\n",
    "                \"color\": \"#5ECC00\",\n",
    "            },\n",
    "            {\n",
    "                \"title\": \"Closed Mangroves\",\n",
    "                \"abstract\": \"\",\n",
    "                \"values\": [2],\n",
    "                \"color\": \"#3B7F00\",\n",
    "            }\n",
    "        ]\n",
    "    },\n",
    "    \"legend\": {\"width\": 2.5, \"height\": 1.0},\n",
    "}\n",
    "\n",
    "\n",
    "# Note this command will also display the legend in a JupyterHub/notebook-type environment)\n",
    "generate_ows_legend_style_cfg(style_mangroves)\n"
   ]
  }
 ],
 "metadata": {
  "kernelspec": {
   "display_name": "Python 3",
   "language": "python",
   "name": "python3"
  },
  "language_info": {
   "codemirror_mode": {
    "name": "ipython",
    "version": 3
   },
   "file_extension": ".py",
   "mimetype": "text/x-python",
   "name": "python",
   "nbconvert_exporter": "python",
   "pygments_lexer": "ipython3",
   "version": "3.11.11"
  }
 },
 "nbformat": 4,
 "nbformat_minor": 2
}
