{
 "cells": [
  {
   "cell_type": "code",
   "execution_count": null,
   "metadata": {},
   "outputs": [],
   "source": [
    "from datacube_ows.styles.api import plot_image_with_style_cfg\n",
    "\n",
    "from pystac.client import Client\n",
    "from odc.stac import load"
   ]
  },
  {
   "cell_type": "code",
   "execution_count": null,
   "metadata": {},
   "outputs": [],
   "source": [
    "from ows_config.radar_backscatter.ows_s1_geomad_cfg import style_vh_over_vv, styles, style_count\n",
    "style_vv = styles[\"style_vv\"]\n",
    "style_vh = styles[\"style_vh\"]"
   ]
  },
  {
   "cell_type": "code",
   "execution_count": null,
   "metadata": {},
   "outputs": [],
   "source": [
    "catalog = \"https://stac.staging.digitalearthpacific.io\"\n",
    "collection = \"dep_s1_geomad\"\n",
    "\n",
    "client = Client.open(catalog)\n",
    "\n",
    "# bbox = [-178.4803748131407, -18.56384238396279, -178.4539389610779, -18.53743868386896]\n",
    "\n",
    "lon = [177.5, 178]\n",
    "lat = [-18, -17.5]\n",
    "# western fiji bbox\n",
    "bbox = [lon[0], lat[0], lon[1], lat[1]]\n",
    "\n",
    "items = client.search(collections=[collection], bbox=bbox).item_collection()\n",
    "\n",
    "print(f\"Found {len(items)} items\")"
   ]
  },
  {
   "cell_type": "code",
   "execution_count": null,
   "metadata": {},
   "outputs": [],
   "source": [
    "data = load(items, bbox=bbox, bands=[\"vv\", \"vh\", \"count\", \"bcmad\", \"smad\", \"emad\"], groupby=\"solar_day\").compute()\n",
    "data"
   ]
  },
  {
   "cell_type": "code",
   "execution_count": null,
   "metadata": {},
   "outputs": [],
   "source": [
    "plot_image_with_style_cfg(style_count, data)"
   ]
  }
 ],
 "metadata": {
  "kernelspec": {
   "display_name": "Python 3",
   "language": "python",
   "name": "python3"
  },
  "language_info": {
   "codemirror_mode": {
    "name": "ipython",
    "version": 3
   },
   "file_extension": ".py",
   "mimetype": "text/x-python",
   "name": "python",
   "nbconvert_exporter": "python",
   "pygments_lexer": "ipython3",
   "version": "3.11.11"
  }
 },
 "nbformat": 4,
 "nbformat_minor": 2
}
