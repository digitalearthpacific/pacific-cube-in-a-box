{
 "cells": [
  {
   "cell_type": "code",
   "execution_count": null,
   "metadata": {},
   "outputs": [],
   "source": [
    "from datacube_ows.styles.api import plot_image_with_style_cfg\n",
    "\n",
    "from pystac.client import Client\n",
    "from odc.stac import load"
   ]
  },
  {
   "cell_type": "code",
   "execution_count": null,
   "metadata": {},
   "outputs": [],
   "source": [
    "catalog = \"https://stac.staging.digitalearthpacific.io\"\n",
    "collection = \"dep_s2_sdb\"\n",
    "\n",
    "client = Client.open(catalog)\n",
    "\n",
    "# lon\t-178.4803748131407\n",
    "# lat\t-18.56384238396279\n",
    "\n",
    "# lon\t-178.4539389610779\n",
    "# lat\t-18.53743868386896\n",
    "bbox = [-178.4803748131407, -18.56384238396279, -178.4539389610779, -18.53743868386896]\n",
    "\n",
    "items = client.search(collections=[collection], bbox=bbox).item_collection()\n",
    "\n",
    "print(f\"Found {len(items)} items\")"
   ]
  },
  {
   "cell_type": "code",
   "execution_count": null,
   "metadata": {},
   "outputs": [],
   "source": [
    "data = load(items, bbox=bbox, bands=[\"depth\"])\n",
    "data"
   ]
  },
  {
   "cell_type": "code",
   "execution_count": null,
   "metadata": {},
   "outputs": [],
   "source": [
    "style_blues = {\n",
    "    \"name\": \"blues\",\n",
    "    \"title\": \"Blues\",\n",
    "    \"abstract\": \"Blue depth\",\n",
    "    \"needed_bands\": [\"depth\"],\n",
    "    \"index_function\": {\n",
    "        \"function\": \"datacube_ows.band_utils.single_band\",\n",
    "        \"mapped_bands\": True,\n",
    "        \"kwargs\": {\n",
    "            \"band\": \"depth\",\n",
    "        },\n",
    "    },\n",
    "    \"color_ramp\": [\n",
    "        {\"value\": -16.0, \"color\": \"#034e7b\"},\n",
    "        {\"value\": -8.0, \"color\": \"#0570b0\"},\n",
    "        {\"value\": -6.0, \"color\": \"#3690c0\"},\n",
    "        {\"value\": -4.0, \"color\": \"#74a9cf\"},\n",
    "        {\"value\": -3.0, \"color\": \"#a6bddb\"},\n",
    "        {\"value\": -2.0, \"color\": \"#d0d1e6\"},\n",
    "        {\"value\": -1.0, \"color\": \"#f1eef6\"},\n",
    "        {\"value\": -0, \"color\": \"#f1eef6\", \"alpha\": 0.0},\n",
    "    ],\n",
    "    \"legend\": {\n",
    "        \"title\": \"Depth \",\n",
    "        \"begin\": \"-16\",\n",
    "        \"end\": \"0\",\n",
    "        \"ticks_every\": 2,\n",
    "        \"units\": \"m\",\n",
    "        \"tick_labels\": {\n",
    "            \"-16\": {\"prefix\": \"<\"},\n",
    "        },\n",
    "    },\n",
    "}\n",
    "\n",
    "\n",
    "style_greyscale = {\n",
    "    \"name\": \"greyscale\",\n",
    "    \"title\": \"Greyscale\",\n",
    "    \"abstract\": \"Greyscale depth\",\n",
    "    \"needed_bands\": [\"depth\"],\n",
    "    \"index_function\": {\n",
    "        \"function\": \"datacube_ows.band_utils.single_band\",\n",
    "        \"mapped_bands\": True,\n",
    "        \"kwargs\": {\n",
    "            \"band\": \"depth\",\n",
    "        },\n",
    "    },\n",
    "    \"color_ramp\": [\n",
    "        {\"value\": -16.0, \"color\": \"#252525\"},\n",
    "        {\"value\": -8.0, \"color\": \"#525252\"},\n",
    "        {\"value\": -6.0, \"color\": \"#737373\"},\n",
    "        {\"value\": -4.0, \"color\": \"#969696\"},\n",
    "        {\"value\": -3.0, \"color\": \"#bdbdbd\"},\n",
    "        {\"value\": -2.0, \"color\": \"#d9d9d9\"},\n",
    "        {\"value\": -1.0, \"color\": \"#f7f7f7\"},\n",
    "        {\"value\": -0, \"color\": \"#f7f7f7\", \"alpha\": 0.0},\n",
    "    ],\n",
    "    \"legend\": {\n",
    "        \"title\": \"Depth \",\n",
    "        \"begin\": \"-16\",\n",
    "        \"end\": \"0\",\n",
    "        \"ticks_every\": 2,\n",
    "        \"units\": \"m\",\n",
    "        \"tick_labels\": {\n",
    "            \"-32\": {\"prefix\": \"<\"},\n",
    "        },\n",
    "    },\n",
    "}\n",
    "\n",
    "plot_image_with_style_cfg(style_greyscale, data)"
   ]
  }
 ],
 "metadata": {
  "kernelspec": {
   "display_name": "Python 3",
   "language": "python",
   "name": "python3"
  },
  "language_info": {
   "codemirror_mode": {
    "name": "ipython",
    "version": 3
   },
   "file_extension": ".py",
   "mimetype": "text/x-python",
   "name": "python",
   "nbconvert_exporter": "python",
   "pygments_lexer": "ipython3",
   "version": "3.11.10"
  }
 },
 "nbformat": 4,
 "nbformat_minor": 2
}
