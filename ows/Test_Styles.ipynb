{
 "cells": [
  {
   "cell_type": "code",
   "execution_count": 1,
   "metadata": {},
   "outputs": [],
   "source": [
    "from datacube_ows.styles.api import plot_image_with_style_cfg\n",
    "\n",
    "from pystac.client import Client\n",
    "from odc.stac import load"
   ]
  },
  {
   "cell_type": "code",
   "execution_count": 2,
   "metadata": {},
   "outputs": [],
   "source": [
    "from ows_config.elevation.ows_intertidal import style_blues"
   ]
  },
  {
   "cell_type": "code",
   "execution_count": 3,
   "metadata": {},
   "outputs": [
    {
     "name": "stdout",
     "output_type": "stream",
     "text": [
      "Found 1 items\n"
     ]
    }
   ],
   "source": [
    "catalog = \"https://stac.staging.digitalearthpacific.io\"\n",
    "collection = \"dep_s2ls_intertidal\"\n",
    "\n",
    "client = Client.open(catalog)\n",
    "\n",
    "# bbox = [-178.4803748131407, -18.56384238396279, -178.4539389610779, -18.53743868386896]\n",
    "\n",
    "lon = [177.23472, 177.28915]\n",
    "lat = [-17.95643, -17.93334]\n",
    "\n",
    "# western fiji bbox\n",
    "bbox = [lon[0], lat[0], lon[1], lat[1]]\n",
    "\n",
    "items = client.search(collections=[collection], bbox=bbox).item_collection()\n",
    "\n",
    "print(f\"Found {len(items)} items\")"
   ]
  },
  {
   "cell_type": "code",
   "execution_count": 7,
   "metadata": {},
   "outputs": [
    {
     "name": "stderr",
     "output_type": "stream",
     "text": [
      "Aborting load due to failure while reading: https://dep-public-staging.s3.us-west-2.amazonaws.com/dep_s2ls_intertidal/0-0-1/062/020/2024/dep_s2ls_intertidal_062_020_2024_exposure.tif:1\n"
     ]
    },
    {
     "ename": "RasterioIOError",
     "evalue": "'/vsicurl/https://dep-public-staging.s3.us-west-2.amazonaws.com/dep_s2ls_intertidal/0-0-1/062/020/2024/dep_s2ls_intertidal_062_020_2024_exposure.tif' does not exist in the file system, and is not recognized as a supported dataset name.",
     "output_type": "error",
     "traceback": [
      "\u001b[1;31m---------------------------------------------------------------------------\u001b[0m",
      "\u001b[1;31mCPLE_OpenFailedError\u001b[0m                      Traceback (most recent call last)",
      "File \u001b[1;32mrasterio\\\\_base.pyx:310\u001b[0m, in \u001b[0;36mrasterio._base.DatasetBase.__init__\u001b[1;34m()\u001b[0m\n",
      "File \u001b[1;32mrasterio\\\\_base.pyx:221\u001b[0m, in \u001b[0;36mrasterio._base.open_dataset\u001b[1;34m()\u001b[0m\n",
      "File \u001b[1;32mrasterio\\\\_err.pyx:359\u001b[0m, in \u001b[0;36mrasterio._err.exc_wrap_pointer\u001b[1;34m()\u001b[0m\n",
      "\u001b[1;31mCPLE_OpenFailedError\u001b[0m: '/vsicurl/https://dep-public-staging.s3.us-west-2.amazonaws.com/dep_s2ls_intertidal/0-0-1/062/020/2024/dep_s2ls_intertidal_062_020_2024_exposure.tif' does not exist in the file system, and is not recognized as a supported dataset name.",
      "\nDuring handling of the above exception, another exception occurred:\n",
      "\u001b[1;31mRasterioIOError\u001b[0m                           Traceback (most recent call last)",
      "Cell \u001b[1;32mIn[7], line 4\u001b[0m\n\u001b[0;32m      1\u001b[0m \u001b[38;5;28;01mfrom\u001b[39;00m \u001b[38;5;21;01mrasterio\u001b[39;00m\u001b[38;5;21;01m.\u001b[39;00m\u001b[38;5;21;01menv\u001b[39;00m \u001b[38;5;28;01mimport\u001b[39;00m Env\n\u001b[0;32m      3\u001b[0m \u001b[38;5;28;01mwith\u001b[39;00m Env(CURL_CA_BUNDLE\u001b[38;5;241m=\u001b[39m\u001b[38;5;124m\"\u001b[39m\u001b[38;5;124m%\u001b[39m\u001b[38;5;124mCONDA_PREFIX\u001b[39m\u001b[38;5;124m%\u001b[39m\u001b[38;5;124m\\\u001b[39m\u001b[38;5;124mLibrary\u001b[39m\u001b[38;5;124m\\\u001b[39m\u001b[38;5;124mssl\u001b[39m\u001b[38;5;124m\\\u001b[39m\u001b[38;5;124mcert.pem\u001b[39m\u001b[38;5;124m\"\u001b[39m):\n\u001b[1;32m----> 4\u001b[0m     data \u001b[38;5;241m=\u001b[39m load(items, bbox\u001b[38;5;241m=\u001b[39mbbox, groupby\u001b[38;5;241m=\u001b[39m\u001b[38;5;124m\"\u001b[39m\u001b[38;5;124msolar_day\u001b[39m\u001b[38;5;124m\"\u001b[39m)\u001b[38;5;241m.\u001b[39mcompute()\n\u001b[0;32m      5\u001b[0m data\n",
      "File \u001b[1;32mc:\\Users\\kamsinr\\AppData\\Local\\anaconda3\\envs\\blah\\Lib\\site-packages\\odc\\stac\\_stac_load.py:457\u001b[0m, in \u001b[0;36mload\u001b[1;34m(items, bands, groupby, resampling, dtype, chunks, pool, crs, resolution, anchor, geobox, bbox, lon, lat, x, y, like, geopolygon, intersects, progress, fail_on_error, stac_cfg, patch_url, preserve_original_order, driver, **kw)\u001b[0m\n\u001b[0;32m    453\u001b[0m     \u001b[38;5;28;01mreturn\u001b[39;00m ds\n\u001b[0;32m    455\u001b[0m rdr_env \u001b[38;5;241m=\u001b[39m rdr\u001b[38;5;241m.\u001b[39mcapture_env()\n\u001b[0;32m    456\u001b[0m \u001b[38;5;28;01mreturn\u001b[39;00m _with_debug_info(\n\u001b[1;32m--> 457\u001b[0m     chunked_load(\n\u001b[0;32m    458\u001b[0m         load_cfg,\n\u001b[0;32m    459\u001b[0m         meta,\n\u001b[0;32m    460\u001b[0m         _parsed,\n\u001b[0;32m    461\u001b[0m         tyx_bins,\n\u001b[0;32m    462\u001b[0m         gbt,\n\u001b[0;32m    463\u001b[0m         tss,\n\u001b[0;32m    464\u001b[0m         rdr_env,\n\u001b[0;32m    465\u001b[0m         rdr,\n\u001b[0;32m    466\u001b[0m         chunks\u001b[38;5;241m=\u001b[39mchunks,\n\u001b[0;32m    467\u001b[0m         pool\u001b[38;5;241m=\u001b[39mpool,\n\u001b[0;32m    468\u001b[0m         progress\u001b[38;5;241m=\u001b[39mprogress,\n\u001b[0;32m    469\u001b[0m         dtype\u001b[38;5;241m=\u001b[39mdtype,\n\u001b[0;32m    470\u001b[0m     )\n\u001b[0;32m    471\u001b[0m )\n",
      "File \u001b[1;32mc:\\Users\\kamsinr\\AppData\\Local\\anaconda3\\envs\\blah\\Lib\\site-packages\\odc\\loader\\_builder.py:624\u001b[0m, in \u001b[0;36mchunked_load\u001b[1;34m(load_cfg, template, srcs, tyx_bins, gbt, tss, env, rdr, dtype, chunks, pool, progress)\u001b[0m\n\u001b[0;32m    622\u001b[0m \u001b[38;5;66;03m# pylint: disable=too-many-arguments\u001b[39;00m\n\u001b[0;32m    623\u001b[0m \u001b[38;5;28;01mif\u001b[39;00m chunks \u001b[38;5;129;01mis\u001b[39;00m \u001b[38;5;28;01mNone\u001b[39;00m:\n\u001b[1;32m--> 624\u001b[0m     \u001b[38;5;28;01mreturn\u001b[39;00m direct_chunked_load(\n\u001b[0;32m    625\u001b[0m         load_cfg,\n\u001b[0;32m    626\u001b[0m         template,\n\u001b[0;32m    627\u001b[0m         srcs,\n\u001b[0;32m    628\u001b[0m         tyx_bins,\n\u001b[0;32m    629\u001b[0m         gbt,\n\u001b[0;32m    630\u001b[0m         tss,\n\u001b[0;32m    631\u001b[0m         env,\n\u001b[0;32m    632\u001b[0m         rdr,\n\u001b[0;32m    633\u001b[0m         pool\u001b[38;5;241m=\u001b[39mpool,\n\u001b[0;32m    634\u001b[0m         progress\u001b[38;5;241m=\u001b[39mprogress,\n\u001b[0;32m    635\u001b[0m     )\n\u001b[0;32m    636\u001b[0m \u001b[38;5;28;01mreturn\u001b[39;00m dask_chunked_load(\n\u001b[0;32m    637\u001b[0m     load_cfg,\n\u001b[0;32m    638\u001b[0m     template,\n\u001b[1;32m   (...)\u001b[0m\n\u001b[0;32m    646\u001b[0m     dtype\u001b[38;5;241m=\u001b[39mdtype,\n\u001b[0;32m    647\u001b[0m )\n",
      "File \u001b[1;32mc:\\Users\\kamsinr\\AppData\\Local\\anaconda3\\envs\\blah\\Lib\\site-packages\\odc\\loader\\_builder.py:857\u001b[0m, in \u001b[0;36mdirect_chunked_load\u001b[1;34m(load_cfg, template, srcs, tyx_bins, gbt, tss, env, rdr, pool, progress)\u001b[0m\n\u001b[0;32m    854\u001b[0m \u001b[38;5;28;01mif\u001b[39;00m progress \u001b[38;5;129;01mis\u001b[39;00m \u001b[38;5;129;01mnot\u001b[39;00m \u001b[38;5;28;01mNone\u001b[39;00m:\n\u001b[0;32m    855\u001b[0m     _work \u001b[38;5;241m=\u001b[39m progress(SizedIterable(_work, total_tasks))\n\u001b[1;32m--> 857\u001b[0m \u001b[38;5;28;01mfor\u001b[39;00m _ \u001b[38;5;129;01min\u001b[39;00m _work:\n\u001b[0;32m    858\u001b[0m     \u001b[38;5;28;01mpass\u001b[39;00m\n\u001b[0;32m    860\u001b[0m rdr\u001b[38;5;241m.\u001b[39mfinalise_load(load_state)\n",
      "File \u001b[1;32mc:\\Users\\kamsinr\\AppData\\Local\\anaconda3\\envs\\blah\\Lib\\site-packages\\odc\\loader\\_utils.py:39\u001b[0m, in \u001b[0;36mpmap\u001b[1;34m(func, inputs, pool)\u001b[0m\n\u001b[0;32m     35\u001b[0m \u001b[38;5;250m\u001b[39m\u001b[38;5;124;03m\"\"\"\u001b[39;00m\n\u001b[0;32m     36\u001b[0m \u001b[38;5;124;03mWrapper for ThreadPoolExecutor.map\u001b[39;00m\n\u001b[0;32m     37\u001b[0m \u001b[38;5;124;03m\"\"\"\u001b[39;00m\n\u001b[0;32m     38\u001b[0m \u001b[38;5;28;01mif\u001b[39;00m pool \u001b[38;5;129;01mis\u001b[39;00m \u001b[38;5;28;01mNone\u001b[39;00m:\n\u001b[1;32m---> 39\u001b[0m     \u001b[38;5;28;01myield from\u001b[39;00m \u001b[38;5;28mmap\u001b[39m(func, inputs)\n\u001b[0;32m     40\u001b[0m     \u001b[38;5;28;01mreturn\u001b[39;00m\n\u001b[0;32m     42\u001b[0m \u001b[38;5;28;01mif\u001b[39;00m \u001b[38;5;28misinstance\u001b[39m(pool, \u001b[38;5;28mint\u001b[39m):\n",
      "File \u001b[1;32mc:\\Users\\kamsinr\\AppData\\Local\\anaconda3\\envs\\blah\\Lib\\site-packages\\odc\\loader\\_builder.py:832\u001b[0m, in \u001b[0;36mdirect_chunked_load.<locals>._do_one\u001b[1;34m(task)\u001b[0m\n\u001b[0;32m    830\u001b[0m     \u001b[38;5;28;01mfor\u001b[39;00m t_idx, layer \u001b[38;5;129;01min\u001b[39;00m \u001b[38;5;28menumerate\u001b[39m(layers):\n\u001b[0;32m    831\u001b[0m         loaders \u001b[38;5;241m=\u001b[39m [rdr\u001b[38;5;241m.\u001b[39mopen(src, ctx) \u001b[38;5;28;01mfor\u001b[39;00m _, src \u001b[38;5;129;01min\u001b[39;00m layer]\n\u001b[1;32m--> 832\u001b[0m         _ \u001b[38;5;241m=\u001b[39m _fill_nd_slice(\n\u001b[0;32m    833\u001b[0m             loaders,\n\u001b[0;32m    834\u001b[0m             task\u001b[38;5;241m.\u001b[39mdst_gbox,\n\u001b[0;32m    835\u001b[0m             task\u001b[38;5;241m.\u001b[39mcfg,\n\u001b[0;32m    836\u001b[0m             dst\u001b[38;5;241m=\u001b[39mdst_slice[t_idx],\n\u001b[0;32m    837\u001b[0m             ydim\u001b[38;5;241m=\u001b[39mydim,\n\u001b[0;32m    838\u001b[0m         )\n\u001b[0;32m    839\u001b[0m t, y, x \u001b[38;5;241m=\u001b[39m task\u001b[38;5;241m.\u001b[39midx_tyx\n\u001b[0;32m    840\u001b[0m \u001b[38;5;28;01mreturn\u001b[39;00m (task\u001b[38;5;241m.\u001b[39mband, t, y, x)\n",
      "File \u001b[1;32mc:\\Users\\kamsinr\\AppData\\Local\\anaconda3\\envs\\blah\\Lib\\site-packages\\odc\\loader\\_builder.py:513\u001b[0m, in \u001b[0;36m_fill_nd_slice\u001b[1;34m(srcs, dst_gbox, cfg, dst, ydim, selection)\u001b[0m\n\u001b[0;32m    510\u001b[0m     \u001b[38;5;28;01mreturn\u001b[39;00m dst\n\u001b[0;32m    512\u001b[0m src, \u001b[38;5;241m*\u001b[39mrest \u001b[38;5;241m=\u001b[39m srcs\n\u001b[1;32m--> 513\u001b[0m yx_roi, pix \u001b[38;5;241m=\u001b[39m src\u001b[38;5;241m.\u001b[39mread(cfg, dst_gbox, dst\u001b[38;5;241m=\u001b[39mdst, selection\u001b[38;5;241m=\u001b[39mselection)\n\u001b[0;32m    514\u001b[0m \u001b[38;5;28;01massert\u001b[39;00m \u001b[38;5;28mlen\u001b[39m(yx_roi) \u001b[38;5;241m==\u001b[39m \u001b[38;5;241m2\u001b[39m\n\u001b[0;32m    515\u001b[0m \u001b[38;5;28;01massert\u001b[39;00m pix\u001b[38;5;241m.\u001b[39mndim \u001b[38;5;241m==\u001b[39m dst\u001b[38;5;241m.\u001b[39mndim\n",
      "File \u001b[1;32mc:\\Users\\kamsinr\\AppData\\Local\\anaconda3\\envs\\blah\\Lib\\site-packages\\odc\\loader\\_rio.py:115\u001b[0m, in \u001b[0;36mRioReader.read\u001b[1;34m(self, cfg, dst_geobox, dst, selection)\u001b[0m\n\u001b[0;32m    107\u001b[0m \u001b[38;5;28;01mdef\u001b[39;00m \u001b[38;5;21mread\u001b[39m(\n\u001b[0;32m    108\u001b[0m     \u001b[38;5;28mself\u001b[39m,\n\u001b[0;32m    109\u001b[0m     cfg: RasterLoadParams,\n\u001b[1;32m   (...)\u001b[0m\n\u001b[0;32m    113\u001b[0m     selection: Optional[ReaderSubsetSelection] \u001b[38;5;241m=\u001b[39m \u001b[38;5;28;01mNone\u001b[39;00m,\n\u001b[0;32m    114\u001b[0m ) \u001b[38;5;241m-\u001b[39m\u001b[38;5;241m>\u001b[39m \u001b[38;5;28mtuple\u001b[39m[\u001b[38;5;28mtuple\u001b[39m[\u001b[38;5;28mslice\u001b[39m, \u001b[38;5;28mslice\u001b[39m], np\u001b[38;5;241m.\u001b[39mndarray]:\n\u001b[1;32m--> 115\u001b[0m     \u001b[38;5;28;01mreturn\u001b[39;00m rio_read(\u001b[38;5;28mself\u001b[39m\u001b[38;5;241m.\u001b[39m_src, cfg, dst_geobox, dst\u001b[38;5;241m=\u001b[39mdst, selection\u001b[38;5;241m=\u001b[39mselection)\n",
      "File \u001b[1;32mc:\\Users\\kamsinr\\AppData\\Local\\anaconda3\\envs\\blah\\Lib\\site-packages\\odc\\loader\\_rio.py:526\u001b[0m, in \u001b[0;36mrio_read\u001b[1;34m(src, cfg, dst_geobox, dst, selection)\u001b[0m\n\u001b[0;32m    520\u001b[0m     \u001b[38;5;28;01mif\u001b[39;00m cfg\u001b[38;5;241m.\u001b[39mfail_on_error:\n\u001b[0;32m    521\u001b[0m         log\u001b[38;5;241m.\u001b[39merror(\n\u001b[0;32m    522\u001b[0m             \u001b[38;5;124m\"\u001b[39m\u001b[38;5;124mAborting load due to failure while reading: \u001b[39m\u001b[38;5;132;01m%s\u001b[39;00m\u001b[38;5;124m:\u001b[39m\u001b[38;5;132;01m%d\u001b[39;00m\u001b[38;5;124m\"\u001b[39m,\n\u001b[0;32m    523\u001b[0m             src\u001b[38;5;241m.\u001b[39muri,\n\u001b[0;32m    524\u001b[0m             src\u001b[38;5;241m.\u001b[39mband,\n\u001b[0;32m    525\u001b[0m         )\n\u001b[1;32m--> 526\u001b[0m         \u001b[38;5;28;01mraise\u001b[39;00m e\n\u001b[0;32m    527\u001b[0m \u001b[38;5;28;01mexcept\u001b[39;00m rasterio\u001b[38;5;241m.\u001b[39merrors\u001b[38;5;241m.\u001b[39mRasterioError \u001b[38;5;28;01mas\u001b[39;00m e:\n\u001b[0;32m    528\u001b[0m     \u001b[38;5;28;01mif\u001b[39;00m cfg\u001b[38;5;241m.\u001b[39mfail_on_error:\n",
      "File \u001b[1;32mc:\\Users\\kamsinr\\AppData\\Local\\anaconda3\\envs\\blah\\Lib\\site-packages\\odc\\loader\\_rio.py:512\u001b[0m, in \u001b[0;36mrio_read\u001b[1;34m(src, cfg, dst_geobox, dst, selection)\u001b[0m\n\u001b[0;32m    508\u001b[0m     \u001b[38;5;28;01mreturn\u001b[39;00m roi, out\u001b[38;5;241m.\u001b[39mtranspose([\u001b[38;5;241m1\u001b[39m, \u001b[38;5;241m2\u001b[39m, \u001b[38;5;241m0\u001b[39m])\n\u001b[0;32m    510\u001b[0m \u001b[38;5;28;01mtry\u001b[39;00m:\n\u001b[0;32m    511\u001b[0m     \u001b[38;5;28;01mreturn\u001b[39;00m fixup_out(\n\u001b[1;32m--> 512\u001b[0m         _rio_read(src, cfg, dst_geobox, prep_dst(dst), selection\u001b[38;5;241m=\u001b[39mselection)\n\u001b[0;32m    513\u001b[0m     )\n\u001b[0;32m    514\u001b[0m \u001b[38;5;28;01mexcept\u001b[39;00m (\n\u001b[0;32m    515\u001b[0m     rasterio\u001b[38;5;241m.\u001b[39merrors\u001b[38;5;241m.\u001b[39mRasterioIOError,\n\u001b[0;32m    516\u001b[0m     rasterio\u001b[38;5;241m.\u001b[39merrors\u001b[38;5;241m.\u001b[39mRasterBlockError,\n\u001b[0;32m    517\u001b[0m     rasterio\u001b[38;5;241m.\u001b[39merrors\u001b[38;5;241m.\u001b[39mWarpOperationError,\n\u001b[0;32m    518\u001b[0m     rasterio\u001b[38;5;241m.\u001b[39merrors\u001b[38;5;241m.\u001b[39mWindowEvaluationError,\n\u001b[0;32m    519\u001b[0m ) \u001b[38;5;28;01mas\u001b[39;00m e:\n\u001b[0;32m    520\u001b[0m     \u001b[38;5;28;01mif\u001b[39;00m cfg\u001b[38;5;241m.\u001b[39mfail_on_error:\n",
      "File \u001b[1;32mc:\\Users\\kamsinr\\AppData\\Local\\anaconda3\\envs\\blah\\Lib\\site-packages\\odc\\loader\\_rio.py:560\u001b[0m, in \u001b[0;36m_rio_read\u001b[1;34m(src, cfg, dst_geobox, dst, selection)\u001b[0m\n\u001b[0;32m    549\u001b[0m \u001b[38;5;28;01mdef\u001b[39;00m \u001b[38;5;21m_rio_read\u001b[39m(\n\u001b[0;32m    550\u001b[0m     src: RasterSource,\n\u001b[0;32m    551\u001b[0m     cfg: RasterLoadParams,\n\u001b[1;32m   (...)\u001b[0m\n\u001b[0;32m    556\u001b[0m     \u001b[38;5;66;03m# if resampling is `nearest` then ignore sub-pixel translation when deciding\u001b[39;00m\n\u001b[0;32m    557\u001b[0m     \u001b[38;5;66;03m# whether we can just paste source into destination\u001b[39;00m\n\u001b[0;32m    558\u001b[0m     ttol \u001b[38;5;241m=\u001b[39m \u001b[38;5;241m0.9\u001b[39m \u001b[38;5;28;01mif\u001b[39;00m cfg\u001b[38;5;241m.\u001b[39mnearest \u001b[38;5;28;01melse\u001b[39;00m \u001b[38;5;241m0.05\u001b[39m\n\u001b[1;32m--> 560\u001b[0m     \u001b[38;5;28;01mwith\u001b[39;00m rasterio\u001b[38;5;241m.\u001b[39mopen(src\u001b[38;5;241m.\u001b[39muri, \u001b[38;5;124m\"\u001b[39m\u001b[38;5;124mr\u001b[39m\u001b[38;5;124m\"\u001b[39m, sharing\u001b[38;5;241m=\u001b[39m\u001b[38;5;28;01mFalse\u001b[39;00m) \u001b[38;5;28;01mas\u001b[39;00m rdr:\n\u001b[0;32m    561\u001b[0m         \u001b[38;5;28;01massert\u001b[39;00m \u001b[38;5;28misinstance\u001b[39m(rdr, rasterio\u001b[38;5;241m.\u001b[39mDatasetReader)\n\u001b[0;32m    562\u001b[0m         ovr_idx: Optional[\u001b[38;5;28mint\u001b[39m] \u001b[38;5;241m=\u001b[39m \u001b[38;5;28;01mNone\u001b[39;00m\n",
      "File \u001b[1;32mc:\\Users\\kamsinr\\AppData\\Local\\anaconda3\\envs\\blah\\Lib\\site-packages\\rasterio\\env.py:463\u001b[0m, in \u001b[0;36mensure_env_with_credentials.<locals>.wrapper\u001b[1;34m(*args, **kwds)\u001b[0m\n\u001b[0;32m    460\u001b[0m     session \u001b[38;5;241m=\u001b[39m DummySession()\n\u001b[0;32m    462\u001b[0m \u001b[38;5;28;01mwith\u001b[39;00m env_ctor(session\u001b[38;5;241m=\u001b[39msession):\n\u001b[1;32m--> 463\u001b[0m     \u001b[38;5;28;01mreturn\u001b[39;00m f(\u001b[38;5;241m*\u001b[39margs, \u001b[38;5;241m*\u001b[39m\u001b[38;5;241m*\u001b[39mkwds)\n",
      "File \u001b[1;32mc:\\Users\\kamsinr\\AppData\\Local\\anaconda3\\envs\\blah\\Lib\\site-packages\\rasterio\\__init__.py:368\u001b[0m, in \u001b[0;36mopen\u001b[1;34m(fp, mode, driver, width, height, count, crs, transform, dtype, nodata, sharing, opener, **kwargs)\u001b[0m\n\u001b[0;32m    365\u001b[0m     path \u001b[38;5;241m=\u001b[39m _parse_path(raw_dataset_path)\n\u001b[0;32m    367\u001b[0m \u001b[38;5;28;01mif\u001b[39;00m mode \u001b[38;5;241m==\u001b[39m \u001b[38;5;124m\"\u001b[39m\u001b[38;5;124mr\u001b[39m\u001b[38;5;124m\"\u001b[39m:\n\u001b[1;32m--> 368\u001b[0m     dataset \u001b[38;5;241m=\u001b[39m DatasetReader(path, driver\u001b[38;5;241m=\u001b[39mdriver, sharing\u001b[38;5;241m=\u001b[39msharing, \u001b[38;5;241m*\u001b[39m\u001b[38;5;241m*\u001b[39mkwargs)\n\u001b[0;32m    369\u001b[0m \u001b[38;5;28;01melif\u001b[39;00m mode \u001b[38;5;241m==\u001b[39m \u001b[38;5;124m\"\u001b[39m\u001b[38;5;124mr+\u001b[39m\u001b[38;5;124m\"\u001b[39m:\n\u001b[0;32m    370\u001b[0m     dataset \u001b[38;5;241m=\u001b[39m get_writer_for_path(path, driver\u001b[38;5;241m=\u001b[39mdriver)(\n\u001b[0;32m    371\u001b[0m         path, mode, driver\u001b[38;5;241m=\u001b[39mdriver, sharing\u001b[38;5;241m=\u001b[39msharing, \u001b[38;5;241m*\u001b[39m\u001b[38;5;241m*\u001b[39mkwargs\n\u001b[0;32m    372\u001b[0m     )\n",
      "File \u001b[1;32mrasterio\\\\_base.pyx:312\u001b[0m, in \u001b[0;36mrasterio._base.DatasetBase.__init__\u001b[1;34m()\u001b[0m\n",
      "\u001b[1;31mRasterioIOError\u001b[0m: '/vsicurl/https://dep-public-staging.s3.us-west-2.amazonaws.com/dep_s2ls_intertidal/0-0-1/062/020/2024/dep_s2ls_intertidal_062_020_2024_exposure.tif' does not exist in the file system, and is not recognized as a supported dataset name."
     ]
    }
   ],
   "source": [
    "from rasterio.env import Env\n",
    " \n",
    "with Env(CURL_CA_BUNDLE=\"%CONDA_PREFIX%\\Library\\ssl\\cert.pem\"):\n",
    "    data = load(items, bbox=bbox, groupby=\"solar_day\").compute()\n",
    "data"
   ]
  },
  {
   "cell_type": "code",
   "execution_count": null,
   "metadata": {},
   "outputs": [],
   "source": [
    "plot_image_with_style_cfg(style_count, data)"
   ]
  }
 ],
 "metadata": {
  "kernelspec": {
   "display_name": "blah",
   "language": "python",
   "name": "python3"
  },
  "language_info": {
   "codemirror_mode": {
    "name": "ipython",
    "version": 3
   },
   "file_extension": ".py",
   "mimetype": "text/x-python",
   "name": "python",
   "nbconvert_exporter": "python",
   "pygments_lexer": "ipython3",
   "version": "3.11.9"
  }
 },
 "nbformat": 4,
 "nbformat_minor": 2
}
