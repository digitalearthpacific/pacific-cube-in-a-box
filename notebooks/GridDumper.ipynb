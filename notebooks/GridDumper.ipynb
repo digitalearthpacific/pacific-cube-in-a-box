{
 "cells": [
  {
   "cell_type": "code",
   "execution_count": null,
   "id": "e1f6991a",
   "metadata": {},
   "outputs": [],
   "source": [
    "from dep_tools.grids import get_tiles\n",
    "from antimeridian import fix_polygon, bbox\n",
    "import geopandas as gpd"
   ]
  },
  {
   "cell_type": "code",
   "execution_count": null,
   "id": "08d682b2",
   "metadata": {},
   "outputs": [],
   "source": [
    "tiles = [t for t in get_tiles(buffer_distance=300_000)]"
   ]
  },
  {
   "cell_type": "code",
   "execution_count": null,
   "id": "6f05cb50",
   "metadata": {},
   "outputs": [],
   "source": [
    "geometries = []\n",
    "ids = []\n",
    "ys = []\n",
    "xs = []\n",
    "bboxs = []\n",
    "\n",
    "for tile in tiles:\n",
    "    geometry = fix_polygon(tile[1].geographic_extent)\n",
    "    bb = bbox(geometry)\n",
    "    bb_strings = [f\"{coord:0.4f}\" for coord in bb]\n",
    "    geometries.append(geometry)\n",
    "    ids.append(tile[0])\n",
    "    ys.append(tile[0][1])\n",
    "    xs.append(tile[0][0])\n",
    "    bboxs.append(\",\".join(bb_strings))"
   ]
  },
  {
   "cell_type": "code",
   "execution_count": null,
   "id": "78553f01",
   "metadata": {},
   "outputs": [],
   "source": [
    "# Convert the list of geometries and ids into a geopandas GeoDataFrame\n",
    "gdf = gpd.GeoDataFrame(\n",
    "    {\"id\": ids, \"geometry\": geometries, \"x\": xs, \"y\": ys, \"bbox\": bboxs}, crs=\"EPSG:4326\"\n",
    ")\n",
    "gdf.explore()"
   ]
  },
  {
   "cell_type": "code",
   "execution_count": null,
   "id": "e6e87027",
   "metadata": {},
   "outputs": [],
   "source": [
    "gdf.to_file(\"grids/dep_grid_300km.geojson\", driver='GeoJSON')\n",
    "gdf.to_file(\"grids/dep_grid_300km.gpkg\", driver='GPKG')\n",
    "gdf.to_parquet(\"grids/dep_grid_300km.parquet\", engine='pyarrow')"
   ]
  }
 ],
 "metadata": {
  "kernelspec": {
   "display_name": "Python 3",
   "language": "python",
   "name": "python3"
  },
  "language_info": {
   "codemirror_mode": {
    "name": "ipython",
    "version": 3
   },
   "file_extension": ".py",
   "mimetype": "text/x-python",
   "name": "python",
   "nbconvert_exporter": "python",
   "pygments_lexer": "ipython3",
   "version": "3.11.11"
  }
 },
 "nbformat": 4,
 "nbformat_minor": 5
}
